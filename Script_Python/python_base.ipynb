{
 "cells": [
  {
   "cell_type": "markdown",
   "metadata": {},
   "source": [
    "##### 2.2.2 문자열\n",
    "---"
   ]
  },
  {
   "cell_type": "code",
   "execution_count": 1,
   "metadata": {},
   "outputs": [
    {
     "data": {
      "text/plain": [
       "'퀀트 투자 포트폴리오 만들기'"
      ]
     },
     "execution_count": 1,
     "metadata": {},
     "output_type": "execute_result"
    }
   ],
   "source": [
    "\"\"\"퀀트 투자 포트폴리오 만들기\"\"\" \n",
    "'''퀀트 투자 포트폴리오 만들기'''"
   ]
  },
  {
   "cell_type": "code",
   "execution_count": 3,
   "metadata": {},
   "outputs": [
    {
     "name": "stdout",
     "output_type": "stream",
     "text": [
      " Life is too short \n",
      "You need python\n"
     ]
    }
   ],
   "source": [
    "# 따옴표를 3 개 사용할 경우 줄 바꿈을 통해 여러 줄의 문자열을 만들 수 있다.\n",
    "multiline = \"\"\" Life is too short \n",
    "You need python\"\"\" \n",
    "\n",
    "print(multiline)"
   ]
  },
  {
   "cell_type": "code",
   "execution_count": 4,
   "metadata": {},
   "outputs": [
    {
     "data": {
      "text/plain": [
       "'나의 이름은 조문수이며, 1984년에 태어났습니다.'"
      ]
     },
     "execution_count": 4,
     "metadata": {},
     "output_type": "execute_result"
    }
   ],
   "source": [
    "# 문자열 맨 앞에 f를 붙이면 f-string 포매팅이 선언되며, 중괄호 안에 \n",
    "# 변수를 넣으면 해당 부분에 변수의 값이 입력 된다 .\n",
    "name = '조문수'\n",
    "birth = '1984' \n",
    "\n",
    "f'나의 이름은 {name}이며, {birth}년에 태어났습니다.'"
   ]
  },
  {
   "cell_type": "code",
   "execution_count": 1,
   "metadata": {},
   "outputs": [
    {
     "data": {
      "text/plain": [
       "17"
      ]
     },
     "execution_count": 1,
     "metadata": {},
     "output_type": "execute_result"
    }
   ],
   "source": [
    "# 문자열 길이 구하기: len()\n",
    "a = 'Life is too short' \n",
    "len(a)"
   ]
  },
  {
   "cell_type": "code",
   "execution_count": 2,
   "metadata": {},
   "outputs": [
    {
     "data": {
      "text/plain": [
       "'퀀트_투자_포트폴리오_만들기'"
      ]
     },
     "execution_count": 2,
     "metadata": {},
     "output_type": "execute_result"
    }
   ],
   "source": [
    "# 문자열 치환하기: replace()\n",
    "# 문자열.replace(a, b): a를 b로 치환\n",
    "var = '퀀트 투자 포트폴리오 만들기' \n",
    "var.replace (' ', '_')"
   ]
  },
  {
   "cell_type": "code",
   "execution_count": 5,
   "metadata": {},
   "outputs": [
    {
     "data": {
      "text/plain": [
       "['퀀트', '투자', '포트폴리오', '만들기']"
      ]
     },
     "execution_count": 5,
     "metadata": {},
     "output_type": "execute_result"
    }
   ],
   "source": [
    "\n",
    "# 문자열 나누기: split()\n",
    "var = '퀀트 투자 포트폴리오 만들기' \n",
    "var.split(' ')"
   ]
  },
  {
   "cell_type": "code",
   "execution_count": 6,
   "metadata": {},
   "outputs": [
    {
     "data": {
      "text/plain": [
       "'a'"
      ]
     },
     "execution_count": 6,
     "metadata": {},
     "output_type": "execute_result"
    }
   ],
   "source": [
    "# 문자열 인덱싱(파이썬은 숫자가 0부터 시작 → 2는 세번째 문자)\n",
    "var = 'Quant'\n",
    "var[2]"
   ]
  },
  {
   "cell_type": "code",
   "execution_count": 7,
   "metadata": {},
   "outputs": [
    {
     "data": {
      "text/plain": [
       "'n'"
      ]
     },
     "execution_count": 7,
     "metadata": {},
     "output_type": "execute_result"
    }
   ],
   "source": [
    "# 인덱싱에 마이너스(-) 기호를 붙이면 문자열 뒤에서 부터 읽는다.\n",
    "var[-2]"
   ]
  },
  {
   "cell_type": "code",
   "execution_count": 8,
   "metadata": {},
   "outputs": [
    {
     "name": "stdout",
     "output_type": "stream",
     "text": [
      "[1, 2, 3]\n"
     ]
    }
   ],
   "source": [
    "# 슬라이싱 var[시작:마지막], 이때 마지막 번호는 미포함\n",
    "# var[0:3] → 0이상 3미만(첫번째 부터 세번째 까지)\n",
    "var[:3]"
   ]
  },
  {
   "cell_type": "code",
   "execution_count": 26,
   "metadata": {},
   "outputs": [
    {
     "data": {
      "text/plain": [
       "[4]"
      ]
     },
     "execution_count": 26,
     "metadata": {},
     "output_type": "execute_result"
    }
   ],
   "source": [
    "var[3:]"
   ]
  },
  {
   "cell_type": "markdown",
   "metadata": {},
   "source": [
    "##### 2.2.3 리스트\n",
    "---"
   ]
  },
  {
   "cell_type": "code",
   "execution_count": 15,
   "metadata": {},
   "outputs": [
    {
     "name": "stdout",
     "output_type": "stream",
     "text": [
      "[1, 2, 3]\n"
     ]
    }
   ],
   "source": [
    "# 리스트: 연속된 데이터 표현, 대괄호([]) 이용해 생성\n",
    "# 리스트_숫자\n",
    "list_num = [1, 2, 3]\n",
    "print(list_num)"
   ]
  },
  {
   "cell_type": "code",
   "execution_count": 16,
   "metadata": {},
   "outputs": [
    {
     "name": "stdout",
     "output_type": "stream",
     "text": [
      "['a', 'b', 'c']\n"
     ]
    }
   ],
   "source": [
    "# 리스트_문자열\n",
    "list_char = ['a', 'b', 'c']\n",
    "print(list_char)"
   ]
  },
  {
   "cell_type": "code",
   "execution_count": 17,
   "metadata": {},
   "outputs": [
    {
     "name": "stdout",
     "output_type": "stream",
     "text": [
      "[1, 'a', 2]\n"
     ]
    }
   ],
   "source": [
    "# 리스트_복합\n",
    "list_complex = [1, 'a', 2]\n",
    "print(list_complex)"
   ]
  },
  {
   "cell_type": "code",
   "execution_count": 18,
   "metadata": {},
   "outputs": [
    {
     "name": "stdout",
     "output_type": "stream",
     "text": [
      "[1, 2, ['a', 'b']]\n"
     ]
    }
   ],
   "source": [
    "# 리스트_중첩\n",
    "list_nest = [1, 2, ['a', 'b']]\n",
    "print(list_nest)"
   ]
  },
  {
   "cell_type": "code",
   "execution_count": 19,
   "metadata": {},
   "outputs": [
    {
     "data": {
      "text/plain": [
       "1"
      ]
     },
     "execution_count": 19,
     "metadata": {},
     "output_type": "execute_result"
    }
   ],
   "source": [
    "# 리스트 인덱싱\n",
    "var = [1, 2, ['a', 'b', 'c']]\n",
    "var[0]"
   ]
  },
  {
   "cell_type": "code",
   "execution_count": 20,
   "metadata": {},
   "outputs": [
    {
     "data": {
      "text/plain": [
       "['a', 'b', 'c']"
      ]
     },
     "execution_count": 20,
     "metadata": {},
     "output_type": "execute_result"
    }
   ],
   "source": [
    "# 리스트 인덱싱\n",
    "var[2]"
   ]
  },
  {
   "cell_type": "code",
   "execution_count": 21,
   "metadata": {},
   "outputs": [
    {
     "data": {
      "text/plain": [
       "'a'"
      ]
     },
     "execution_count": 21,
     "metadata": {},
     "output_type": "execute_result"
    }
   ],
   "source": [
    "# 리스트에서 내부 리스트 인덱싱\n",
    "var[2][0]"
   ]
  },
  {
   "cell_type": "code",
   "execution_count": null,
   "metadata": {},
   "outputs": [],
   "source": [
    "# 리스트 슬라이싱\n",
    "var = [1, 2, 3, 4, 5]\n",
    "var[0:2]"
   ]
  },
  {
   "cell_type": "code",
   "execution_count": null,
   "metadata": {},
   "outputs": [],
   "source": [
    "# 리스트 연산 + : 두 리스트를 하나로 합치기\n",
    "a = [1, 2, 3]\n",
    "b = [4, 5, 6]\n",
    "\n",
    "a + b"
   ]
  },
  {
   "cell_type": "code",
   "execution_count": null,
   "metadata": {},
   "outputs": [],
   "source": [
    "# 리스트 연산 * : 해당 리스트를 n번 반복\n",
    "a = [1, 2, 3]\n",
    "a * 3"
   ]
  },
  {
   "cell_type": "code",
   "execution_count": null,
   "metadata": {},
   "outputs": [],
   "source": [
    "# 리스트에 요소 추가 append() : 리스트 마지막에 데이터 추가\n",
    "var = [1, 2, 3]\n",
    "var.append(4)\n",
    "print(var)"
   ]
  },
  {
   "cell_type": "code",
   "execution_count": null,
   "metadata": {},
   "outputs": [],
   "source": [
    "# append() 함수 내에 리스트 입력 시 중첩된 형태로 추가\n",
    "var = [1, 2, 3]\n",
    "var.append([4, 5])\n",
    "print(var)"
   ]
  },
  {
   "cell_type": "code",
   "execution_count": null,
   "metadata": {},
   "outputs": [],
   "source": [
    "# extend() : 리스트 내에 중첩된 형태가 아닌 단일 리스트로 확장\n",
    "var = [1, 2, 3]\n",
    "var.extend([4, 5])\n",
    "print(var)"
   ]
  },
  {
   "cell_type": "code",
   "execution_count": null,
   "metadata": {},
   "outputs": [],
   "source": [
    "# 리스트 수정: 인덱싱 이용\n",
    "var = [1, 2, 3, 4, 5]\n",
    "var[2] = 10\n",
    "print(var)"
   ]
  },
  {
   "cell_type": "code",
   "execution_count": null,
   "metadata": {},
   "outputs": [],
   "source": [
    "# 리스트 수정: 인덱싱 이용\n",
    "var[3] = ['a', 'b', 'c']\n",
    "print(var)"
   ]
  },
  {
   "cell_type": "code",
   "execution_count": null,
   "metadata": {},
   "outputs": [],
   "source": [
    "# 리스트 수정: 슬라이싱 이용\n",
    "var[0 : 2] = ['가', '나']\n",
    "print(var)"
   ]
  },
  {
   "cell_type": "code",
   "execution_count": null,
   "metadata": {},
   "outputs": [],
   "source": [
    "# 리스트 내 요소 삭제: del 명령어 / 인덱싱\n",
    "var = [1, 2, 3]\n",
    "del var[0]\n",
    "print(var)"
   ]
  },
  {
   "cell_type": "code",
   "execution_count": null,
   "metadata": {},
   "outputs": [],
   "source": [
    "# 리스트 내 요소 삭제: del 명령어 / 슬라이싱\n",
    "var = [1, 2, 3]\n",
    "del var[0:2]\n",
    "print(var)"
   ]
  },
  {
   "cell_type": "code",
   "execution_count": null,
   "metadata": {},
   "outputs": [],
   "source": [
    "# 슬라이싱으로 범위 지정 후 빈 리스트([]) 입력 시 데이터 삭제\n",
    "var = [1, 2, 3]\n",
    "var[0:2] = []\n",
    "print(var)"
   ]
  },
  {
   "cell_type": "code",
   "execution_count": null,
   "metadata": {},
   "outputs": [],
   "source": [
    "# remove(x) : 리스트에서 첫 번째로 나오는 x를 삭제\n",
    "var = [1, 2, 3]\n",
    "var.remove(1)\n",
    "print(var)"
   ]
  },
  {
   "cell_type": "code",
   "execution_count": 24,
   "metadata": {},
   "outputs": [
    {
     "name": "stdout",
     "output_type": "stream",
     "text": [
      "[1, 2]\n"
     ]
    }
   ],
   "source": [
    "# pop() : 리스트의 맨 마지막 요소를 반환하고 해당 요소는 삭제\n",
    "var = [1, 2, 3]\n",
    "var.pop()\n",
    "print(var)"
   ]
  },
  {
   "cell_type": "code",
   "execution_count": 25,
   "metadata": {},
   "outputs": [
    {
     "name": "stdout",
     "output_type": "stream",
     "text": [
      "[1, 2, 3, 4]\n"
     ]
    }
   ],
   "source": [
    "# sort() : 리스트 내 데이터 정렬(오름차순)\n",
    "var = [2, 4, 1, 3]\n",
    "var.sort()\n",
    "print(var)"
   ]
  },
  {
   "cell_type": "markdown",
   "metadata": {},
   "source": [
    "##### 2.2.4 튜플\n",
    "---"
   ]
  },
  {
   "cell_type": "code",
   "execution_count": null,
   "metadata": {},
   "outputs": [],
   "source": [
    "# 튜플: 리스트와 흡사하나 소괄호(()) 이용해 생성하고, 값 수정 및 삭제 불가\n",
    "#    값이 하나인 경우 값 뒤에 반드시 콤마(,) 입력\n",
    "var = (1, )\n",
    "print(var)"
   ]
  },
  {
   "cell_type": "code",
   "execution_count": null,
   "metadata": {},
   "outputs": [],
   "source": [
    "# 튜플도 중첩 가능\n",
    "var = (1, 2, ('a', 'b'))\n",
    "print(var)"
   ]
  },
  {
   "cell_type": "code",
   "execution_count": null,
   "metadata": {},
   "outputs": [],
   "source": [
    "# 튜플은 값 삭제 불가\n",
    "var = (1, 2)\n",
    "del var[0]"
   ]
  },
  {
   "cell_type": "code",
   "execution_count": null,
   "metadata": {},
   "outputs": [],
   "source": [
    "# 튜플도 인덱싱이나 슬라이싱은 리스트와 동일\n",
    "var = (1, 2, 3)\n",
    "var[0]"
   ]
  },
  {
   "cell_type": "markdown",
   "metadata": {},
   "source": [
    "##### 2.2.5 딕셔너리\n",
    "---"
   ]
  },
  {
   "cell_type": "code",
   "execution_count": null,
   "metadata": {},
   "outputs": [],
   "source": [
    "#  딕셔너리: 대응 관계를 나타내는 자료형, 중괄호({})를 이용해 생성하며 \n",
    "#     키:값 형태\n",
    "var = {'key1' : 1, 'key2' : 2}\n",
    "print(var)"
   ]
  },
  {
   "cell_type": "code",
   "execution_count": null,
   "metadata": {},
   "outputs": [],
   "source": [
    "# 딕셔너리 값으로 리스트나 튜플 형태도 가능\n",
    "var = {'key1' : [1, 2, 3], 'key2' : ('a', 'b', 'c')}\n",
    "print(var)"
   ]
  },
  {
   "cell_type": "code",
   "execution_count": null,
   "metadata": {},
   "outputs": [],
   "source": [
    "# 딕셔너리 키를 사용해 값 구하기\n",
    "var = {'key1' : 1, 'key2' : 2, 'key3' : 3}\n",
    "var['key1']"
   ]
  },
  {
   "cell_type": "code",
   "execution_count": null,
   "metadata": {},
   "outputs": [],
   "source": [
    "# 딕셔너리 쌍 추가하기(예시: 키는 key3, 값은 3인 딕셔너리 쌍 추가)\n",
    "var = {'key1': 1, 'key2': 2} \n",
    "var['key3'] = 3 \n",
    "print(var)"
   ]
  },
  {
   "cell_type": "code",
   "execution_count": null,
   "metadata": {},
   "outputs": [],
   "source": [
    "# 딕셔너리 쌍 삭제: del 명령어\n",
    "del var['key1'] \n",
    "print(var)"
   ]
  },
  {
   "cell_type": "code",
   "execution_count": null,
   "metadata": {},
   "outputs": [],
   "source": [
    "# 딕셔너리 키와 값을 한번에 구하기\n",
    "#    var.keys() 입력하면 var라는 딕셔너리에서 키만을 모아 dict_keys 객체로 반환\n",
    "var = {'key1': 1, 'key2': 2, 'key3': 3}\n",
    "var.keys()"
   ]
  },
  {
   "cell_type": "code",
   "execution_count": null,
   "metadata": {},
   "outputs": [],
   "source": [
    "# 결과를 list()로 감싸 주면 키값이 리스트 형태로 출력\n",
    "list(var.keys())"
   ]
  },
  {
   "cell_type": "code",
   "execution_count": null,
   "metadata": {},
   "outputs": [],
   "source": [
    "# var.values()는 var라는 딕셔너리 에서 값만을 모아 dict_values 객체 로 반환\n",
    "var.values()"
   ]
  },
  {
   "cell_type": "markdown",
   "metadata": {},
   "source": [
    "##### 2.2.6 집합\n",
    "---"
   ]
  },
  {
   "cell_type": "code",
   "execution_count": null,
   "metadata": {},
   "outputs": [],
   "source": [
    "# set() : 집합 자료형\n",
    "#    set() 내에 리스트를 입력 하면 집합이 만들어진다.\n",
    "set1 = set([1, 2, 3])\n",
    "print(set1)"
   ]
  },
  {
   "cell_type": "code",
   "execution_count": null,
   "metadata": {},
   "outputs": [],
   "source": [
    "# 집합 자료형은 중복 허용 안됨, 순서 없음\n",
    "set2 = set('banana')\n",
    "print(set2)"
   ]
  },
  {
   "cell_type": "code",
   "execution_count": null,
   "metadata": {},
   "outputs": [],
   "source": [
    "# 데이터 정의\n",
    "s1 = set([1, 2, 3, 4])\n",
    "s2 = set([3, 4, 5, 6])"
   ]
  },
  {
   "cell_type": "code",
   "execution_count": null,
   "metadata": {},
   "outputs": [],
   "source": [
    "# union() : 합집합\n",
    "s1.union(s2)"
   ]
  },
  {
   "cell_type": "code",
   "execution_count": null,
   "metadata": {},
   "outputs": [],
   "source": [
    "# intersection() : 교집합\n",
    "s1.intersection(s2)"
   ]
  },
  {
   "cell_type": "code",
   "execution_count": null,
   "metadata": {},
   "outputs": [],
   "source": [
    "# difference() : 차집합\n",
    "s1.difference(s2)"
   ]
  },
  {
   "cell_type": "markdown",
   "metadata": {},
   "source": [
    "##### 2.2.7 불리언(Boolean)\n",
    "---"
   ]
  },
  {
   "cell_type": "code",
   "execution_count": 9,
   "metadata": {},
   "outputs": [
    {
     "data": {
      "text/plain": [
       "bool"
      ]
     },
     "execution_count": 9,
     "metadata": {},
     "output_type": "execute_result"
    }
   ],
   "source": [
    "# 불리언 Boolean 자료형: 참 True 또는 거짓 False을 나타내는 자료형\n",
    "#    True와 False의 첫 문자는 항상 대문자\n",
    "var = True \n",
    "type(var)"
   ]
  },
  {
   "cell_type": "code",
   "execution_count": 10,
   "metadata": {},
   "outputs": [
    {
     "data": {
      "text/plain": [
       "True"
      ]
     },
     "execution_count": 10,
     "metadata": {},
     "output_type": "execute_result"
    }
   ],
   "source": [
    "1 == 1"
   ]
  },
  {
   "cell_type": "code",
   "execution_count": 19,
   "metadata": {},
   "outputs": [
    {
     "data": {
      "text/plain": [
       "True"
      ]
     },
     "execution_count": 19,
     "metadata": {},
     "output_type": "execute_result"
    }
   ],
   "source": [
    "1 != 2"
   ]
  },
  {
   "cell_type": "code",
   "execution_count": 18,
   "metadata": {},
   "outputs": [
    {
     "data": {
      "text/plain": [
       "False"
      ]
     },
     "execution_count": 18,
     "metadata": {},
     "output_type": "execute_result"
    }
   ],
   "source": [
    "# bool() : True와 False를 반환 하는 함수(숫자 0은 False)\n",
    "bool(0)"
   ]
  },
  {
   "cell_type": "code",
   "execution_count": 17,
   "metadata": {},
   "outputs": [
    {
     "data": {
      "text/plain": [
       "True"
      ]
     },
     "execution_count": 17,
     "metadata": {},
     "output_type": "execute_result"
    }
   ],
   "source": [
    "#  0이 아닌 숫자는 True\n",
    "bool(1)"
   ]
  },
  {
   "cell_type": "code",
   "execution_count": 12,
   "metadata": {},
   "outputs": [
    {
     "data": {
      "text/plain": [
       "True"
      ]
     },
     "execution_count": 12,
     "metadata": {},
     "output_type": "execute_result"
    }
   ],
   "source": [
    "bool(2)"
   ]
  },
  {
   "cell_type": "markdown",
   "metadata": {},
   "source": [
    "##### 2.2.8 날짜와 시간\n",
    "---"
   ]
  },
  {
   "cell_type": "code",
   "execution_count": 3,
   "metadata": {},
   "outputs": [
    {
     "data": {
      "text/plain": [
       "datetime.datetime(2024, 9, 13, 15, 41, 6, 516826)"
      ]
     },
     "execution_count": 3,
     "metadata": {},
     "output_type": "execute_result"
    }
   ],
   "source": [
    "# 날짜, 시간 구하기(datetime 패키지)\n",
    "import datetime \n",
    "var = datetime.datetime.now()\n",
    "var"
   ]
  },
  {
   "cell_type": "code",
   "execution_count": 4,
   "metadata": {},
   "outputs": [
    {
     "data": {
      "text/plain": [
       "datetime.datetime"
      ]
     },
     "execution_count": 4,
     "metadata": {},
     "output_type": "execute_result"
    }
   ],
   "source": [
    "type(var)"
   ]
  },
  {
   "cell_type": "code",
   "execution_count": 5,
   "metadata": {},
   "outputs": [
    {
     "name": "stdout",
     "output_type": "stream",
     "text": [
      "2024\n"
     ]
    }
   ],
   "source": [
    "# 연도\n",
    "print(var.year)"
   ]
  },
  {
   "cell_type": "code",
   "execution_count": 6,
   "metadata": {},
   "outputs": [
    {
     "name": "stdout",
     "output_type": "stream",
     "text": [
      "9\n"
     ]
    }
   ],
   "source": [
    "# 월\n",
    "print(var.month)"
   ]
  },
  {
   "cell_type": "code",
   "execution_count": 7,
   "metadata": {},
   "outputs": [
    {
     "data": {
      "text/plain": [
       "(2024, 9, 13, 15, 41, 6, 516826)"
      ]
     },
     "execution_count": 7,
     "metadata": {},
     "output_type": "execute_result"
    }
   ],
   "source": [
    "# 각 속성 한번에 출력\n",
    "var.year, var.month, var.day, var.hour, var.minute, var.second, var.microsecond"
   ]
  },
  {
   "cell_type": "code",
   "execution_count": 8,
   "metadata": {},
   "outputs": [
    {
     "data": {
      "text/plain": [
       "4"
      ]
     },
     "execution_count": 8,
     "metadata": {},
     "output_type": "execute_result"
    }
   ],
   "source": [
    "# 요일\n",
    "# 0 : 월요일, 1 : 화요일, 2 : 수요일, 3 : 목요일, \n",
    "# 4 : 금요일, 5 : 토요일, 6 : 일요일\n",
    "var.weekday()"
   ]
  },
  {
   "cell_type": "code",
   "execution_count": 9,
   "metadata": {},
   "outputs": [
    {
     "data": {
      "text/plain": [
       "datetime.date(2024, 9, 13)"
      ]
     },
     "execution_count": 9,
     "metadata": {},
     "output_type": "execute_result"
    }
   ],
   "source": [
    "# date() : 날짜 관련 정보\n",
    "var.date()"
   ]
  },
  {
   "cell_type": "code",
   "execution_count": 10,
   "metadata": {},
   "outputs": [
    {
     "data": {
      "text/plain": [
       "datetime.time(15, 41, 6, 516826)"
      ]
     },
     "execution_count": 10,
     "metadata": {},
     "output_type": "execute_result"
    }
   ],
   "source": [
    "# time() : 시간 관련 정보\n",
    "var.time()"
   ]
  },
  {
   "cell_type": "code",
   "execution_count": 11,
   "metadata": {},
   "outputs": [
    {
     "data": {
      "text/plain": [
       "'2024-09-13'"
      ]
     },
     "execution_count": 11,
     "metadata": {},
     "output_type": "execute_result"
    }
   ],
   "source": [
    "# strftime() : 시간 정보를 문자열 로 바꿈\n",
    "var.strftime('%Y-%m-%d')"
   ]
  },
  {
   "cell_type": "code",
   "execution_count": 13,
   "metadata": {},
   "outputs": [
    {
     "data": {
      "text/plain": [
       "datetime.datetime(2024, 4, 16, 11, 59, 59)"
      ]
     },
     "execution_count": 13,
     "metadata": {},
     "output_type": "execute_result"
    }
   ],
   "source": [
    "# strptime() : 문자열에서 시간 정보 확인\n",
    "datetime.datetime.strptime(\"2024-04-16 11:59:59\", \"%Y-%m-%d %H:%M:%S\")"
   ]
  },
  {
   "cell_type": "code",
   "execution_count": 14,
   "metadata": {},
   "outputs": [
    {
     "data": {
      "text/plain": [
       "datetime.timedelta(days=365)"
      ]
     },
     "execution_count": 14,
     "metadata": {},
     "output_type": "execute_result"
    }
   ],
   "source": [
    "# 날짜 및 시간 간격 구하기\n",
    "dt1 = datetime.datetime(2022, 12, 31) \n",
    "dt2 = datetime.datetime(2021, 12, 31) \n",
    "td = dt1 - dt2 \n",
    "td"
   ]
  },
  {
   "cell_type": "code",
   "execution_count": 15,
   "metadata": {},
   "outputs": [
    {
     "data": {
      "text/plain": [
       "datetime.datetime(2022, 1, 1, 0, 0)"
      ]
     },
     "execution_count": 15,
     "metadata": {},
     "output_type": "execute_result"
    }
   ],
   "source": [
    "# 날짜에 특정 기간 더하기(timedelta 객체 이용 - 날짜와 초단위로 연산 가능)\n",
    "dt1 = datetime.datetime(2021, 12, 31) \n",
    "dt1 + datetime.timedelta(days = 1)"
   ]
  },
  {
   "cell_type": "code",
   "execution_count": 16,
   "metadata": {},
   "outputs": [
    {
     "data": {
      "text/plain": [
       "datetime.datetime(2022, 1, 31, 0, 0)"
      ]
     },
     "execution_count": 16,
     "metadata": {},
     "output_type": "execute_result"
    }
   ],
   "source": [
    "# 월 단위로 더하는 경우는 dateutil 패키지의 relativedelta 클래스를 이용\n",
    "from dateutil.relativedelta import relativedelta\n",
    "dt1 + relativedelta(months = 1)"
   ]
  },
  {
   "cell_type": "code",
   "execution_count": 17,
   "metadata": {},
   "outputs": [
    {
     "name": "stdout",
     "output_type": "stream",
     "text": [
      "0\n",
      "2024-09-13 15:55:59.108033\n",
      "-------\n",
      "1\n",
      "2024-09-13 15:56:01.108912\n",
      "-------\n",
      "2\n",
      "2024-09-13 15:56:03.109826\n",
      "-------\n"
     ]
    }
   ],
   "source": [
    "# time 패키지의 sleep() 함수 사용 시 일정 시간 프로세스 일시정지\n",
    "import datetime \n",
    "import time \n",
    "\n",
    "for i in range(3) : \n",
    "    print(i) \n",
    "    print(datetime.datetime.now()) \n",
    "    print('-------') \n",
    "    time.sleep(2)"
   ]
  },
  {
   "cell_type": "markdown",
   "metadata": {},
   "source": [
    "#### 2.3 제어문\n",
    "##### 2.3.1 if문\n",
    "---"
   ]
  },
  {
   "cell_type": "code",
   "execution_count": 18,
   "metadata": {},
   "outputs": [
    {
     "name": "stdout",
     "output_type": "stream",
     "text": [
      "값이 0보다 큽니다.\n"
     ]
    }
   ],
   "source": [
    "# if문의 기본 구조 - 조건문 뒤에 콜론(:), 아래 실행문은 공백 4번(또는 탭)\n",
    "x = 2\n",
    "\n",
    "if x > 0:\n",
    "    print('값이 0보다 큽니다.')"
   ]
  },
  {
   "cell_type": "code",
   "execution_count": 19,
   "metadata": {},
   "outputs": [
    {
     "name": "stdout",
     "output_type": "stream",
     "text": [
      "값이 음수 입니다.\n"
     ]
    }
   ],
   "source": [
    "# 조건문이 False일 때 실행할 상황은 else를 이용\n",
    "x = -1\n",
    "\n",
    "if x > 0: \n",
    "    print('값이 0보다 큽니다.') \n",
    "else: \n",
    "    print('값이 음수 입니다.')"
   ]
  },
  {
   "cell_type": "code",
   "execution_count": 23,
   "metadata": {},
   "outputs": [
    {
     "name": "stdout",
     "output_type": "stream",
     "text": [
      "값이 0 이상 10 미만입니다.\n"
     ]
    }
   ],
   "source": [
    "# 조건이 여러 개인 다중 조건을 판단하려면 if와 else 사이에 elif를 추가\n",
    "# elif는 개수에 제한 없이 사용 가능\n",
    "x = 3 \n",
    "\n",
    "if x >= 10: \n",
    "    print('값이 10보다 큽니다.') \n",
    "elif x >= 0:\n",
    "    print('값이 0 이상 10 미만입니다.') \n",
    "else: \n",
    "    print('값이 음수 입니다.')"
   ]
  },
  {
   "cell_type": "code",
   "execution_count": null,
   "metadata": {},
   "outputs": [
    {
     "data": {
      "text/plain": [
       "'양수'"
      ]
     },
     "execution_count": 27,
     "metadata": {},
     "output_type": "execute_result"
    }
   ],
   "source": [
    "# 조건문 if 와 else 로만 구성 될 경우 간단히 작성 가능\n",
    "# [조건문이 True인 경우] if 조건문 else [조건문이 False인 경우]\n",
    "X = 7 \n",
    "\n",
    "'양수' if x >= 0 else '음수'"
   ]
  },
  {
   "cell_type": "markdown",
   "metadata": {},
   "source": [
    "##### 2.3.2 while문\n",
    "---"
   ]
  },
  {
   "cell_type": "code",
   "execution_count": 28,
   "metadata": {},
   "outputs": [
    {
     "name": "stdout",
     "output_type": "stream",
     "text": [
      "1\n",
      "2\n",
      "3\n",
      "4\n"
     ]
    }
   ],
   "source": [
    "# while문(반복문) : 특정 조건을 만족하는 동안 반복해서 코드 실행\n",
    "num = 1 \n",
    "while num < 5: \n",
    "    print(num)\n",
    "    num = num + 1"
   ]
  },
  {
   "cell_type": "code",
   "execution_count": 29,
   "metadata": {},
   "outputs": [
    {
     "name": "stdout",
     "output_type": "stream",
     "text": [
      "2은 짝수입니다.\n",
      "4은 짝수입니다.\n",
      "6은 짝수입니다.\n",
      "8은 짝수입니다.\n"
     ]
    }
   ],
   "source": [
    "# while문 내부에 if문 추가 가능\n",
    "num = 1 \n",
    "while num < 10: \n",
    "    if num % 2 == 0:\n",
    "        print (f'{num}은 짝수입니다.') \n",
    "    num = num + 1"
   ]
  },
  {
   "cell_type": "code",
   "execution_count": 30,
   "metadata": {},
   "outputs": [
    {
     "name": "stdout",
     "output_type": "stream",
     "text": [
      "잔액은 900원 입니다.\n",
      "잔액은 800원 입니다.\n",
      "잔액은 700원 입니다.\n",
      "잔액은 600원 입니다.\n",
      "잔액은 500원 입니다.\n",
      "잔액은 400원 입니다.\n",
      "잔액은 300원 입니다.\n",
      "잔액은 200원 입니다.\n",
      "잔액은 100원 입니다.\n",
      "잔액은 0원 입니다.\n"
     ]
    }
   ],
   "source": [
    "# 코드 실행중 특정 조건 만족 시 멈추게 하고 싶을 경우 if문에 break를 사용\n",
    "money = 1000 \n",
    "while True:\n",
    "    money = money - 100 \n",
    "    print(f'잔액은 {money}원 입니다.') \n",
    "    \n",
    "    if money <= 0: \n",
    "        break"
   ]
  },
  {
   "cell_type": "markdown",
   "metadata": {},
   "source": [
    "##### 2.3.3 for문\n",
    "---"
   ]
  },
  {
   "cell_type": "code",
   "execution_count": 31,
   "metadata": {},
   "outputs": [
    {
     "name": "stdout",
     "output_type": "stream",
     "text": [
      "1\n",
      "2\n",
      "3\n"
     ]
    }
   ],
   "source": [
    "# for문은 while문과 동일한 반복문 이지만, \n",
    "# 무한히 반복되는 것이 아닌 정해진 횟수만큼만 반복\n",
    "# for 변수 in 리스트(또는 튜플, 문자열): \n",
    "var = [1, 2, 3] \n",
    "\n",
    "for i in var: \n",
    "    print(i)"
   ]
  },
  {
   "cell_type": "code",
   "execution_count": 32,
   "metadata": {},
   "outputs": [
    {
     "name": "stdout",
     "output_type": "stream",
     "text": [
      "10는 짝수 입니다.\n",
      "15는 홀수 입니다.\n",
      "17는 홀수 입니다.\n",
      "20는 짝수 입니다.\n"
     ]
    }
   ],
   "source": [
    "# for문도 if문과 함께 사용 가능\n",
    "var = [10, 15, 17, 20] \n",
    "\n",
    "for i in var: \n",
    "    if i % 2 == 0:\n",
    "        print(f'{i}는 짝수 입니다.') \n",
    "    else: \n",
    "        print(f'{i}는 홀수 입니다.')"
   ]
  },
  {
   "cell_type": "code",
   "execution_count": null,
   "metadata": {},
   "outputs": [
    {
     "name": "stdout",
     "output_type": "stream",
     "text": [
      "0\n",
      "1\n",
      "2\n",
      "3\n",
      "4\n"
     ]
    }
   ],
   "source": [
    "# for문은 range() 함수와 자주 사용\n",
    "# range() 함수: 숫자(정수) 리스트를 자동으로 생성\n",
    "for i in range(5): \n",
    "    print(i)"
   ]
  },
  {
   "cell_type": "code",
   "execution_count": 37,
   "metadata": {},
   "outputs": [
    {
     "name": "stdout",
     "output_type": "stream",
     "text": [
      "0\n",
      "1\n",
      "2\n",
      "3\n",
      "4\n"
     ]
    }
   ],
   "source": [
    "for i in range(0, 5): \n",
    "    print(i)"
   ]
  },
  {
   "cell_type": "code",
   "execution_count": 43,
   "metadata": {},
   "outputs": [
    {
     "name": "stdout",
     "output_type": "stream",
     "text": [
      "[1, 4, 9]\n"
     ]
    }
   ],
   "source": [
    "# 제곱을 구하는 예시\n",
    "a = [1, 2, 3]\n",
    "\n",
    "result = []   # 빈 리스트 생성\n",
    "for i in a:    # 제곱을 구한 후 리스트에 추가(append)\n",
    "    result.append(i**2) \n",
    "print(result)"
   ]
  },
  {
   "cell_type": "code",
   "execution_count": null,
   "metadata": {},
   "outputs": [
    {
     "name": "stdout",
     "output_type": "stream",
     "text": [
      "[1, 4, 9]\n"
     ]
    }
   ],
   "source": [
    "# 리스트 내포 안에 for 조건 사용시 간단히 표현 가능\n",
    "# [실행 for 변수 in 리스트(또는 튜플, 문자열)]\n",
    "# → 기존의 for문에서 위아래 변경 후 리스트 내에 넣어서 표현\n",
    "result = [i**2 for i in a] \n",
    "print(result)"
   ]
  },
  {
   "cell_type": "markdown",
   "metadata": {},
   "source": [
    "##### 2.3.4 오류에 대한 예외 처리\n",
    "---"
   ]
  },
  {
   "cell_type": "code",
   "execution_count": null,
   "metadata": {},
   "outputs": [],
   "source": [
    "# try-except문을 이용하면 예외 처리, 즉 오류가 발생할 경우 이를 무시하고 넘어갈 수 있다.\n",
    "try\n",
    "    expr  # 실행하고자 하는 코드\n",
    "except:\n",
    "    error-handler-code  # 오류 발생 시 실행할 코드\n",
    "else:\n",
    "    running-code  # expr 코드가 문제가 없을 경우 실행되는 코드(생략 가능)\n",
    "finally:\n",
    "    cleanup-code  # 오류 여부와 관계 없이 무조건 수행할 구문(생략 가능)"
   ]
  },
  {
   "cell_type": "code",
   "execution_count": null,
   "metadata": {},
   "outputs": [
    {
     "name": "stdout",
     "output_type": "stream",
     "text": [
      "1\n",
      "4\n",
      "9\n"
     ]
    },
    {
     "ename": "TypeError",
     "evalue": "unsupported operand type(s) for ** or pow(): 'str' and 'int'",
     "output_type": "error",
     "traceback": [
      "\u001b[1;31m---------------------------------------------------------------------------\u001b[0m",
      "\u001b[1;31mTypeError\u001b[0m                                 Traceback (most recent call last)",
      "Cell \u001b[1;32mIn[3], line 5\u001b[0m\n\u001b[0;32m      2\u001b[0m number \u001b[38;5;241m=\u001b[39m [\u001b[38;5;241m1\u001b[39m, \u001b[38;5;241m2\u001b[39m, \u001b[38;5;241m3\u001b[39m, \u001b[38;5;124m\"\u001b[39m\u001b[38;5;124m4\u001b[39m\u001b[38;5;124m\"\u001b[39m, \u001b[38;5;241m5\u001b[39m]\n\u001b[0;32m      4\u001b[0m \u001b[38;5;28;01mfor\u001b[39;00m i \u001b[38;5;129;01min\u001b[39;00m number:\n\u001b[1;32m----> 5\u001b[0m     \u001b[38;5;28mprint\u001b[39m(i \u001b[38;5;241m*\u001b[39m\u001b[38;5;241m*\u001b[39m \u001b[38;5;241m2\u001b[39m)\n",
      "\u001b[1;31mTypeError\u001b[0m: unsupported operand type(s) for ** or pow(): 'str' and 'int'"
     ]
    }
   ],
   "source": [
    "# 오류 발생 예제\n",
    "number = [1, 2, 3, \"4\", 5]\n",
    "\n",
    "for i in number:\n",
    "    print(i ** 2)\n",
    "    "
   ]
  },
  {
   "cell_type": "code",
   "execution_count": 2,
   "metadata": {},
   "outputs": [
    {
     "name": "stdout",
     "output_type": "stream",
     "text": [
      "1\n",
      "4\n",
      "9\n",
      "Error at: 4\n",
      "25\n"
     ]
    }
   ],
   "source": [
    "# try-except문 예제\n",
    "number = [1, 2, 3, \"4\", 5]\n",
    "\n",
    "for i in number:\n",
    "    try:\n",
    "        print(i ** 2)\n",
    "    except:\n",
    "        print('Error at: ' + i)"
   ]
  },
  {
   "cell_type": "markdown",
   "metadata": {},
   "source": [
    "##### 2.3.5 tqdm() 함수를 이용한 진행 단계 확인하기\n",
    "---"
   ]
  },
  {
   "cell_type": "code",
   "execution_count": 3,
   "metadata": {},
   "outputs": [
    {
     "name": "stderr",
     "output_type": "stream",
     "text": [
      "100%|██████████| 10/10 [00:01<00:00,  9.76it/s]\n"
     ]
    }
   ],
   "source": [
    "# tqdm() 함수를 이용한 진행 단계 확인\n",
    "import time\n",
    "from tqdm import tqdm\n",
    "\n",
    "for i in tqdm(range(10)):\n",
    "    time.sleep(0.1)"
   ]
  },
  {
   "cell_type": "markdown",
   "metadata": {},
   "source": [
    "#### 2.4 함수\n",
    "---"
   ]
  },
  {
   "cell_type": "code",
   "execution_count": null,
   "metadata": {},
   "outputs": [],
   "source": [
    "# 함수 정의\n",
    "def f(x):      # def 키워드를 통해 함수임을 선언, f는 함수명, x는 매개변수\n",
    "    statement  # 실행할 코드\n",
    "    return y   # 결괏값으로 y 반환 후 함수 종료"
   ]
  },
  {
   "cell_type": "code",
   "execution_count": null,
   "metadata": {},
   "outputs": [],
   "source": [
    "# 제곱근 계산 함수 예시(매개변수 하나)\n",
    "def sqrt(x):\n",
    "    res = x**(1/2)\n",
    "    return res"
   ]
  },
  {
   "cell_type": "code",
   "execution_count": 11,
   "metadata": {},
   "outputs": [
    {
     "data": {
      "text/plain": [
       "2.0"
      ]
     },
     "execution_count": 11,
     "metadata": {},
     "output_type": "execute_result"
    }
   ],
   "source": [
    "sqrt(4)"
   ]
  },
  {
   "cell_type": "code",
   "execution_count": 13,
   "metadata": {},
   "outputs": [
    {
     "data": {
      "text/plain": [
       "3.0"
      ]
     },
     "execution_count": 13,
     "metadata": {},
     "output_type": "execute_result"
    }
   ],
   "source": [
    "sqrt(9)"
   ]
  },
  {
   "cell_type": "code",
   "execution_count": 15,
   "metadata": {},
   "outputs": [],
   "source": [
    "# 매개변수 여러개인 함수 예시\n",
    "def multiply(x, y):\n",
    "    res = x**y\n",
    "    return res"
   ]
  },
  {
   "cell_type": "code",
   "execution_count": null,
   "metadata": {},
   "outputs": [
    {
     "data": {
      "text/plain": [
       "81"
      ]
     },
     "execution_count": 17,
     "metadata": {},
     "output_type": "execute_result"
    }
   ],
   "source": [
    "# 각 매개변수 값 직접 지정\n",
    "multiply(x = 3, y = 4)"
   ]
  },
  {
   "cell_type": "code",
   "execution_count": null,
   "metadata": {},
   "outputs": [
    {
     "data": {
      "text/plain": [
       "25"
      ]
     },
     "execution_count": 19,
     "metadata": {},
     "output_type": "execute_result"
    }
   ],
   "source": [
    "# 인자만 입력 시 함수에서 정의한 매개변수 순서에 따라 지정\n",
    "multiply(5, 2)"
   ]
  },
  {
   "cell_type": "code",
   "execution_count": null,
   "metadata": {},
   "outputs": [],
   "source": [
    "# 기본값이 설정된 함수 예시\n",
    "# 매개변수에 기본값을 설정하여 값을 입력하지 않을 경우 기본값이 자동 입력\n",
    "def divide(x, n = 2):  # 매개변수 n에 기본값 2 설정\n",
    "    res = x / n\n",
    "    return(res)"
   ]
  },
  {
   "cell_type": "code",
   "execution_count": 21,
   "metadata": {},
   "outputs": [
    {
     "data": {
      "text/plain": [
       "1.5"
      ]
     },
     "execution_count": 21,
     "metadata": {},
     "output_type": "execute_result"
    }
   ],
   "source": [
    "divide(3)"
   ]
  },
  {
   "cell_type": "code",
   "execution_count": 22,
   "metadata": {},
   "outputs": [
    {
     "data": {
      "text/plain": [
       "2.0"
      ]
     },
     "execution_count": 22,
     "metadata": {},
     "output_type": "execute_result"
    }
   ],
   "source": [
    "divide(6, 3)"
   ]
  },
  {
   "cell_type": "markdown",
   "metadata": {},
   "source": [
    "##### 2.4.1 람다 함수\n",
    "---"
   ]
  },
  {
   "cell_type": "code",
   "execution_count": null,
   "metadata": {},
   "outputs": [
    {
     "ename": "SyntaxError",
     "evalue": "invalid syntax (3138149767.py, line 2)",
     "output_type": "error",
     "traceback": [
      "\u001b[1;36m  Cell \u001b[1;32mIn[26], line 2\u001b[1;36m\u001b[0m\n\u001b[1;33m    함수명 = lambda 매개변수1, 매개변수2, ...: 실행할 코드\u001b[0m\n\u001b[1;37m                               ^\u001b[0m\n\u001b[1;31mSyntaxError\u001b[0m\u001b[1;31m:\u001b[0m invalid syntax\n"
     ]
    }
   ],
   "source": [
    "# 람다(lambda)를 이용하여 간단히 함수 만들기\n",
    "# statement : 실행할 코드\n",
    "함수명 = lambda 매개변수1, 매개변수2, ...: statement"
   ]
  },
  {
   "cell_type": "code",
   "execution_count": 24,
   "metadata": {},
   "outputs": [],
   "source": [
    "# 람다를 이용한 함수 생성 예제\n",
    "divide_lam = lambda x, n: x / n"
   ]
  },
  {
   "cell_type": "code",
   "execution_count": 25,
   "metadata": {},
   "outputs": [
    {
     "data": {
      "text/plain": [
       "2.0"
      ]
     },
     "execution_count": 25,
     "metadata": {},
     "output_type": "execute_result"
    }
   ],
   "source": [
    "divide_lam(6, 3)"
   ]
  },
  {
   "cell_type": "markdown",
   "metadata": {},
   "source": [
    "#### 2.5 패키지 사용하기\n",
    "---"
   ]
  },
  {
   "cell_type": "code",
   "execution_count": null,
   "metadata": {},
   "outputs": [],
   "source": []
  }
 ],
 "metadata": {
  "kernelspec": {
   "display_name": "moonsoo1",
   "language": "python",
   "name": "python3"
  },
  "language_info": {
   "codemirror_mode": {
    "name": "ipython",
    "version": 3
   },
   "file_extension": ".py",
   "mimetype": "text/x-python",
   "name": "python",
   "nbconvert_exporter": "python",
   "pygments_lexer": "ipython3",
   "version": "3.12.7"
  }
 },
 "nbformat": 4,
 "nbformat_minor": 2
}
